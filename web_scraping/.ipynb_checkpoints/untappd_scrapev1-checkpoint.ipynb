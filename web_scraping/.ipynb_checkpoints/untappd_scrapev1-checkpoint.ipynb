{
 "cells": [
  {
   "cell_type": "code",
   "execution_count": 8,
   "metadata": {},
   "outputs": [],
   "source": [
    "n = 0\n",
    "listy =  [[1,1,1],[2,2,2],[3,3,3]]\n",
    "for l in listy:\n",
    "    while n < len(listy)*-1 :\n",
    "\n",
    "        n -=1\n",
    "        total = sum(l) + sum(listy[n])\n",
    "        print(total)"
   ]
  },
  {
   "cell_type": "code",
   "execution_count": 6,
   "metadata": {},
   "outputs": [
    {
     "ename": "TypeError",
     "evalue": "sort_values() missing 1 required positional argument: 'by'",
     "output_type": "error",
     "traceback": [
      "\u001b[0;31m---------------------------------------------------------------------------\u001b[0m",
      "\u001b[0;31mTypeError\u001b[0m                                 Traceback (most recent call last)",
      "\u001b[0;32m<ipython-input-6-aaa43bee272a>\u001b[0m in \u001b[0;36m<module>\u001b[0;34m\u001b[0m\n\u001b[1;32m     28\u001b[0m \u001b[0;34m\u001b[0m\u001b[0m\n\u001b[1;32m     29\u001b[0m \u001b[0mbeer_rating\u001b[0m \u001b[0;34m=\u001b[0m \u001b[0mpd\u001b[0m\u001b[0;34m.\u001b[0m\u001b[0mDataFrame\u001b[0m\u001b[0;34m(\u001b[0m\u001b[0mbeer_rating\u001b[0m\u001b[0;34m)\u001b[0m\u001b[0;34m\u001b[0m\u001b[0;34m\u001b[0m\u001b[0m\n\u001b[0;32m---> 30\u001b[0;31m \u001b[0mbeer_rating\u001b[0m\u001b[0;34m.\u001b[0m\u001b[0msort_values\u001b[0m\u001b[0;34m(\u001b[0m\u001b[0;34m)\u001b[0m\u001b[0;34m\u001b[0m\u001b[0;34m\u001b[0m\u001b[0m\n\u001b[0m",
      "\u001b[0;31mTypeError\u001b[0m: sort_values() missing 1 required positional argument: 'by'"
     ]
    }
   ],
   "source": [
    "import bs4 as bs\n",
    "import urllib.request\n",
    "import csv\n",
    "import pandas as pd\n",
    "source = urllib.request.urlopen('https://untappd.com/beer/top_rated?type=adambier').read()\n",
    "\n",
    "\n",
    "soup = bs.BeautifulSoup(source,'lxml')\n",
    "\n",
    "f = csv.writer(open('beers.csv','w'))\n",
    "\n",
    "body = soup.body\n",
    "beer_type = soup.select(\"#filter_picker\")\n",
    "table = soup.find_all(\"div\",{\"class\":\"beer-item\"})\n",
    "#table_rows = table.find_all('span',{\"class\":\"num\"})\n",
    "beer_rating = []\n",
    "for t in table:\n",
    "    \n",
    "    rating = t.select('span',{\"class\":\"num\"})\n",
    "    name = t.select('a',{\"class\":\"name\"})\n",
    "    row_rating = [i.text for i in rating]\n",
    "    row_name = [i.text for i in name]\n",
    "    #f.writerow(rating)\n",
    "    #print(row_name[1])\n",
    "    beer_rating.append([row_name[1],row_rating[1]])\n",
    "    #print(row_name[1],row_rating[1])\n",
    "    \n",
    "\n",
    "beer_rating = pd.DataFrame(beer_rating)\n",
    "beer_rating.sort_values(by"
   ]
  },
  {
   "cell_type": "code",
   "execution_count": 80,
   "metadata": {},
   "outputs": [
    {
     "name": "stdout",
     "output_type": "stream",
     "text": [
      "['Show All Styles', 'Adambier', 'Altbier', 'American Wild Ale', 'Australian Sparkling Ale', 'Barleywine - American', 'Barleywine - English', 'Barleywine - Other', 'Belgian Blonde', 'Belgian Dubbel', 'Belgian Quadrupel', 'Belgian Strong Dark Ale', 'Belgian Strong Golden Ale', 'Belgian Tripel', 'Bière de Champagne / Bière Brut', 'Bière de Garde', 'Bière de Mars', 'Black & Tan', 'Blonde Ale', 'Bock - Doppelbock', 'Bock - Eisbock (Traditional)', 'Bock - Hell / Maibock / Lentebock', 'Bock - Single / Traditional', 'Bock - Weizenbock', 'Brett Beer', 'Brown Ale - American', 'Brown Ale - Belgian', 'Brown Ale - English', 'Brown Ale - Imperial / Double', 'Brown Ale - Other', 'Burton Ale', 'California Common', 'Chilli / Chile Beer', 'Cider - Dry', 'Cider - Herbed / Spiced / Hopped', 'Cider - Ice / Applewine', 'Cider - Other Fruit', 'Cider - Perry', 'Cider - Rosé', 'Cider - Sweet', 'Cider - Traditional', 'Cream Ale', 'Dampfbier', 'Dark Ale', 'Dunkelweizen', 'English Bitter', 'English Mild Ale', 'Extra Special / Strong Bitter', 'Farmhouse Ale - Other', 'Farmhouse Ale - Sahti', 'Farmhouse Ale - Saison', 'Festbier', 'Freeze-distilled Beer', 'Fruit Beer', 'Ginger Beer', 'Gluten-Free', 'Golden Ale', 'Graff', 'Grisette', 'Gruit / Ancient Herbed Ale', 'Grätzer / Grodziskie', 'Happoshu', 'Hard Seltzer', 'Hefeweizen', 'Hefeweizen Light / Leicht', 'Honey Beer', 'IPA - American', 'IPA - Belgian', 'IPA - Black / Cascadian Dark Ale', 'IPA - Brut', 'IPA - English', 'IPA - Farmhouse', 'IPA - Imperial / Double', 'IPA - Imperial / Double Black', 'IPA - Imperial / Double Milkshake', 'IPA - Imperial / Double New England', 'IPA - International', 'IPA - Milkshake', 'IPA - New England', 'IPA - Red', 'IPA - Rye', 'IPA - Session / India Session Ale', 'IPA - Sour', 'IPA - Triple', 'IPA - Triple New England', 'IPA - White', 'Italian Grape Ale', 'Kellerbier / Zwickelbier', 'Kentucky Common', 'Kombucha', 'Kristallweizen', 'Kvass', 'Kölsch', 'Lager - Amber', 'Lager - American', 'Lager - American Amber / Red', 'Lager - American Light', 'Lager - Dark', 'Lager - Dortmunder / Export', 'Lager - Euro Dark', 'Lager - Euro Pale', 'Lager - Euro Strong', 'Lager - Helles', 'Lager - IPL (India Pale Lager)', 'Lager - Japanese Rice', 'Lager - Munich Dunkel', 'Lager - Pale', 'Lager - Red', 'Lager - Vienna', 'Lager - Winter', 'Lambic - Faro', 'Lambic - Framboise', 'Lambic - Fruit', 'Lambic - Gueuze', 'Lambic - Kriek', 'Lambic - Traditional', 'Lichtenhainer', 'Malt Beer', 'Malt Liquor ', 'Mead - Braggot', 'Mead - Cyser', 'Mead - Melomel', 'Mead - Metheglin', 'Mead - Other', 'Mead - Pyment', 'Mead - Traditional', 'Mumme', 'Märzen', 'Non-Alcoholic Beer', 'Old Ale', 'Pale Ale - American', 'Pale Ale - Australian', 'Pale Ale - Belgian', 'Pale Ale - English', 'Pale Ale - International', 'Pale Ale - Milkshake', 'Pale Ale - New England', 'Pale Ale - New Zealand', 'Patersbier', 'Pilsner - Czech', 'Pilsner - German', 'Pilsner - Imperial / Double', 'Pilsner - Other', 'Porter - American', 'Porter - Baltic', 'Porter - Baltic Imperial / Double', 'Porter - Coffee', 'Porter - English', 'Porter - Imperial / Double', 'Porter - Other', 'Pumpkin / Yam Beer', 'Rauchbier', 'Red Ale - American Amber / Red', 'Red Ale - Imperial / Double', 'Red Ale - Irish', 'Red Ale - Other', 'Roggenbier', 'Root Beer', 'Rye Beer', 'Rye Wine', 'Schwarzbier', 'Scotch Ale / Wee Heavy', 'Scottish Ale', 'Scottish Export Ale', 'Shandy / Radler', 'Smoked Beer', 'Sour - Berliner Weisse', 'Sour - Flanders Oud Bruin', 'Sour - Flanders Red Ale', 'Sour - Fruited', 'Sour - Gose', 'Sour - Gose - Fruited', 'Sour - Other', 'Specialty Grain', 'Spiced / Herbed Beer', 'Steinbier', 'Stout - American', 'Stout - American Imperial / Double', 'Stout - Coffee', 'Stout - English', 'Stout - Foreign / Export', 'Stout - Imperial / Double', 'Stout - Imperial / Double Milk', 'Stout - Imperial / Double Oatmeal', 'Stout - Imperial / Double White', 'Stout - Irish Dry', 'Stout - Milk / Sweet', 'Stout - Oatmeal', 'Stout - Other', 'Stout - Oyster', 'Stout - Pastry', 'Stout - Russian Imperial', 'Stout - White', 'Strong Ale - American', 'Strong Ale - English', 'Strong Ale - Other', 'Table Beer', 'Traditional Ale', 'Wheat Beer - American Pale Wheat', 'Wheat Beer - Other', 'Wheat Wine', 'Winter Ale', 'Winter Warmer', 'Witbier', 'Zoigl']\n"
     ]
    }
   ],
   "source": [
    "#beer_rating = pd.DataFrame(beer_rating)\n",
    "beer_type\n",
    "for b in beer_type:\n",
    "    beer_style = b.select('option')\n",
    "    beer_row = [i.text for i in beer_style]\n",
    "    print(beer_row)"
   ]
  },
  {
   "cell_type": "code",
   "execution_count": null,
   "metadata": {},
   "outputs": [],
   "source": []
  }
 ],
 "metadata": {
  "kernelspec": {
   "display_name": "Python 3",
   "language": "python",
   "name": "python3"
  },
  "language_info": {
   "codemirror_mode": {
    "name": "ipython",
    "version": 3
   },
   "file_extension": ".py",
   "mimetype": "text/x-python",
   "name": "python",
   "nbconvert_exporter": "python",
   "pygments_lexer": "ipython3",
   "version": "3.7.3"
  }
 },
 "nbformat": 4,
 "nbformat_minor": 2
}
