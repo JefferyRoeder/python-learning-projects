{
 "cells": [
  {
   "cell_type": "code",
   "execution_count": null,
   "metadata": {},
   "outputs": [],
   "source": []
  },
  {
   "cell_type": "code",
   "execution_count": 28,
   "metadata": {},
   "outputs": [],
   "source": [
    "import bs4 as bs\n",
    "import urllib.request\n",
    "import csv\n",
    "import pandas as pd\n",
    "import time\n",
    "\n",
    "\n",
    "\n",
    "# beer_type = []\n",
    "# for b in beer_type:\n",
    "#    beer_style = b.select('option')\n",
    "#    beer_row = [i.text for i in beer_style]\n",
    "#    beer_type.append(beer_row)\n",
    "\n",
    "\n",
    "\n",
    "for tl in type_list:\n",
    "    source = urllib.request.urlopen('https://untappd.com/beer/top_rated?type={}'.format(tl)).read()\n",
    "    soup = bs.BeautifulSoup(source,'lxml')\n",
    "\n",
    "    f = csv.writer(open('beers.csv','w'))\n",
    "\n",
    "    body = soup.body\n",
    "    beer_type = soup.select(\"#filter_picker\")\n",
    "    table = soup.find_all(\"div\",{\"class\":\"beer-item\"})\n",
    "    #table_rows = table.find_all('span',{\"class\":\"num\"})\n",
    "    beer_rating = []\n",
    "    time.sleep(2)\n",
    "    for t in table:\n",
    "\n",
    "        rating = t.select('span',{\"class\":\"num\"})\n",
    "        name = t.select('a',{\"class\":\"name\"})\n",
    "        row_rating = [i.text for i in rating]\n",
    "        row_name = [i.text for i in name]\n",
    "\n",
    "        beer_rating.append([row_name[1],row_rating[1]])\n",
    "        #time.sleep(2)\n",
    "    print(beer_rating)"
   ]
  },
  {
   "cell_type": "code",
   "execution_count": 50,
   "metadata": {},
   "outputs": [],
   "source": [
    "source = urllib.request.urlopen('https://untappd.com/beer/top_rated').read()\n",
    "soup = bs.BeautifulSoup(source,'lxml')\n",
    "\n",
    "beer_type = []\n",
    "for b in beer_type:\n",
    "    beer_style = b.select('option')\n",
    "    beer_row = [i.text for i in beer_style]\n",
    "    beer_type.append(beer_row)\n",
    "    print(beer_style)"
   ]
  },
  {
   "cell_type": "code",
   "execution_count": 45,
   "metadata": {},
   "outputs": [],
   "source": [
    "source = urllib.request.urlopen('https://untappd.com/beer/top_rated').read()\n",
    "soup = bs.BeautifulSoup(source,'lxml')\n",
    "\n",
    "beer_type = []\n",
    "for b in beer_type:\n",
    "    beer_style = b.select('option')\n",
    "    beer_row = [i.text for i in beer_style]\n",
    "    beer_type.append(beer_row)\n",
    "\n",
    "#beer_rating = pd.DataFrame(beer_rating)\n",
    "#soup = bs.BeautifulSoup(source,'lxml')\n",
    "type_list = []\n",
    "\n",
    "for b in beer_type:\n",
    "    source = urllib.request.urlopen('https://untappd.com/beer/top_rated?type={b}').read()\n",
    "    soup = bs.BeautifulSoup(source,'lxml')\n",
    "    beer_type = soup.select(\"#filter_picker\")\n",
    "    beer_style = b.select('option')\n",
    "    beer_row = [i.get('data-value-slug','') for i in beer_style]\n",
    "    type_list.append(beer_row)\n",
    "    #source = urllib.request.urlopen('https://untappd.com/beer/top_rated?type={b}').read()"
   ]
  },
  {
   "cell_type": "code",
   "execution_count": 47,
   "metadata": {},
   "outputs": [
    {
     "data": {
      "text/plain": [
       "[]"
      ]
     },
     "execution_count": 47,
     "metadata": {},
     "output_type": "execute_result"
    }
   ],
   "source": [
    "beer_type"
   ]
  },
  {
   "cell_type": "code",
   "execution_count": 11,
   "metadata": {},
   "outputs": [
    {
     "data": {
      "text/plain": [
       "[]"
      ]
     },
     "execution_count": 11,
     "metadata": {},
     "output_type": "execute_result"
    }
   ],
   "source": [
    "beer_type = []\n",
    "for b in beer_type:\n",
    "    beer_style = b.select('option')\n",
    "    beer_row = [i.get('data-value-slug','') for i in beer_style]\n",
    "    beer_type.append(beer_row)\n",
    "beer_type\n"
   ]
  },
  {
   "cell_type": "code",
   "execution_count": 32,
   "metadata": {},
   "outputs": [
    {
     "data": {
      "text/plain": [
       "[]"
      ]
     },
     "execution_count": 32,
     "metadata": {},
     "output_type": "execute_result"
    }
   ],
   "source": [
    "type_list"
   ]
  },
  {
   "cell_type": "code",
   "execution_count": 109,
   "metadata": {},
   "outputs": [],
   "source": [
    "#type_list = type_list[0]"
   ]
  },
  {
   "cell_type": "code",
   "execution_count": 12,
   "metadata": {},
   "outputs": [
    {
     "data": {
      "text/plain": [
       "[]"
      ]
     },
     "execution_count": 12,
     "metadata": {},
     "output_type": "execute_result"
    }
   ],
   "source": [
    "#type_list2 = type_list[1:5]\n",
    "#type_list = type_list[0]\n",
    "type_list"
   ]
  },
  {
   "cell_type": "code",
   "execution_count": null,
   "metadata": {},
   "outputs": [],
   "source": []
  },
  {
   "cell_type": "code",
   "execution_count": 13,
   "metadata": {},
   "outputs": [
    {
     "data": {
      "text/plain": [
       "[]"
      ]
     },
     "execution_count": 13,
     "metadata": {},
     "output_type": "execute_result"
    }
   ],
   "source": [
    "type_list"
   ]
  },
  {
   "cell_type": "code",
   "execution_count": 14,
   "metadata": {},
   "outputs": [
    {
     "ename": "NameError",
     "evalue": "name 'beer_rating' is not defined",
     "output_type": "error",
     "traceback": [
      "\u001b[0;31m---------------------------------------------------------------------------\u001b[0m",
      "\u001b[0;31mNameError\u001b[0m                                 Traceback (most recent call last)",
      "\u001b[0;32m<ipython-input-14-2d42a3e7e6d8>\u001b[0m in \u001b[0;36m<module>\u001b[0;34m\u001b[0m\n\u001b[0;32m----> 1\u001b[0;31m \u001b[0mbeer_rating\u001b[0m\u001b[0;34m[\u001b[0m\u001b[0;34m-\u001b[0m\u001b[0;36m1\u001b[0m\u001b[0;34m]\u001b[0m\u001b[0;34m\u001b[0m\u001b[0;34m\u001b[0m\u001b[0m\n\u001b[0m",
      "\u001b[0;31mNameError\u001b[0m: name 'beer_rating' is not defined"
     ]
    }
   ],
   "source": [
    "beer_rating[-1]"
   ]
  },
  {
   "cell_type": "code",
   "execution_count": null,
   "metadata": {},
   "outputs": [],
   "source": []
  }
 ],
 "metadata": {
  "kernelspec": {
   "display_name": "Python 3",
   "language": "python",
   "name": "python3"
  },
  "language_info": {
   "codemirror_mode": {
    "name": "ipython",
    "version": 3
   },
   "file_extension": ".py",
   "mimetype": "text/x-python",
   "name": "python",
   "nbconvert_exporter": "python",
   "pygments_lexer": "ipython3",
   "version": "3.7.3"
  }
 },
 "nbformat": 4,
 "nbformat_minor": 2
}
