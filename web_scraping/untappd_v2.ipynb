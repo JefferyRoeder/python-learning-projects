{
 "cells": [
  {
   "cell_type": "code",
   "execution_count": 16,
   "metadata": {},
   "outputs": [],
   "source": [
    "import bs4 as bs\n",
    "import urllib.request\n",
    "import csv\n",
    "import pandas as pd\n"
   ]
  },
  {
   "cell_type": "code",
   "execution_count": 33,
   "metadata": {},
   "outputs": [],
   "source": [
    "#Brings back beer name, brewery, rating, and style for one tab of beer type.\n",
    "source = urllib.request.urlopen('https://untappd.com/beer/top_rated?type=adambier').read()\n",
    "soup = bs.BeautifulSoup(source,'lxml')\n",
    "\n",
    "body = soup.body    \n",
    "table = soup.find_all(\"div\",{\"class\":\"beer-item\"})\n",
    "table_rows = soup.find_all('span',{\"class\":\"num\"})\n",
    "beers = []\n",
    "for t in table:\n",
    "    rating = t.select('span',{\"class\":\"num\"})\n",
    "    name = t.select('a',{\"class\":\"name\"})\n",
    "    brewery = t.select('a',{\"class\":\"style\"})\n",
    "    style = t.select('p',{\"class\":\"style\"})\n",
    "    row_rating = [i.text for i in rating]\n",
    "    row_name = [i.text for i in name]\n",
    "    row_brewery = [i.text for i in brewery]\n",
    "    row_style = [i.text for i in style]\n",
    "    beers.append([row_name[1],row_rating[1],row_brewery[1],row_style[2]])\n",
    "    #"
   ]
  },
  {
   "cell_type": "code",
   "execution_count": null,
   "metadata": {
    "scrolled": true
   },
   "outputs": [],
   "source": []
  },
  {
   "cell_type": "code",
   "execution_count": null,
   "metadata": {},
   "outputs": [],
   "source": []
  }
 ],
 "metadata": {
  "kernelspec": {
   "display_name": "Python 3",
   "language": "python",
   "name": "python3"
  },
  "language_info": {
   "codemirror_mode": {
    "name": "ipython",
    "version": 3
   },
   "file_extension": ".py",
   "mimetype": "text/x-python",
   "name": "python",
   "nbconvert_exporter": "python",
   "pygments_lexer": "ipython3",
   "version": "3.7.3"
  }
 },
 "nbformat": 4,
 "nbformat_minor": 2
}
