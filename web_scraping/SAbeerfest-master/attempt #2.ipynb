{
 "cells": [
  {
   "cell_type": "code",
   "execution_count": 47,
   "metadata": {},
   "outputs": [],
   "source": [
    "import lxml.html as ls\n",
    "import requests\n",
    "import bs4"
   ]
  },
  {
   "cell_type": "code",
   "execution_count": 49,
   "metadata": {},
   "outputs": [],
   "source": [
    "res= requests.get('https://sanantoniobeerfestival.com/mobile/')"
   ]
  },
  {
   "cell_type": "code",
   "execution_count": 51,
   "metadata": {},
   "outputs": [
    {
     "data": {
      "text/plain": [
       "requests.models.Response"
      ]
     },
     "execution_count": 51,
     "metadata": {},
     "output_type": "execute_result"
    }
   ],
   "source": [
    "type(res)"
   ]
  },
  {
   "cell_type": "code",
   "execution_count": 53,
   "metadata": {
    "scrolled": true
   },
   "outputs": [
    {
     "data": {
      "text/plain": [
       "'<!DOCTYPE html>\\n<html>\\n    <head>\\n        <meta charset=\"utf-8\">\\n        <meta http-equiv=\"X-UA-Compatible\" content=\"IE=edge\">\\n        <title>San Antonio Beer Festival Web App</title>\\n        <meta name=\"description\" content=\"A complete list of beers available at the 2019 San Antonio Beer Festival.\">\\n        <meta name=\"viewport\" content=\"width=device-width, initial-scale=1\">\\n\\t\\t<link rel=\"icon\" href=\"/wp/wp-content/themes/euclid-events-master/images/favicon.ico\" />\\n        <link href=\\'https://fonts.googleapis.com/css?family=Lato:400,700,700italic,400italic\\' rel=\\'stylesheet\\' type=\\'text/css\\'>\\n        <link rel=\"stylesheet\" href=\"css/normalize.css\">\\n        <link rel=\"stylesheet\" href=\"css/main.css\">\\n        <link rel=\"stylesheet\" href=\"css/font-awesome.css\">\\n        <meta property=\"og:title\" content=\"San Antonio Beer Festival Web App\" />\\n        <meta property=\"og:type\" content=\"website\" />\\n        <meta property=\"og:url\" content=\"https://sanantoniobeerfestival.com/mobile/\" />\\n        <meta property=\"og:image\" content=\"https://sanantoniobeerfestival.com/mobile/img/beerfest-2018-fb.jpg\" />\\n        <meta property=\"og:description\" content=\"A complete list of beers available at the 2019 San Antonio Beer Festival. Sort by brewery, beer style, alcohol by volume, and brewery location.\" />\\n\\t\\t<script type=\"text/javascript\">\\n          var _gaq = _gaq || [];\\n          _gaq.push([\\'_setAccount\\', \\'UA-5255170-1\\']);\\n          _gaq.push([\\'_setDomainName\\', \\'auto\\']);\\n          _gaq.push([\\'_trackPageview\\']);\\n          (function() {\\n            var ga = document.createElement(\\'script\\'); ga.type = \\'text/javascript\\'; ga.async = true;\\n            ga.src = (\\'https:\\' == document.location.protocol ? \\'https://\\' : \\'http://\\') + \\'stats.g.doubleclick.net/dc.js\\';\\n            var s = document.getElementsByTagName(\\'script\\')[0]; s.parentNode.insertBefore(ga, s);\\n          })();\\n        </script>\\n    </head>\\n    <body>\\n\\n        <header>\\n            <a href=\"/\"><img src=\"/wp/wp-content/uploads/2019/08/SAM_BFLogo-19.png\" width=\"200\" alt=\"2018 San Antonio Beer Festival\"></a>\\n            <h1>Beer Finder</h1>\\n            <section class=\"filter-cnt\">\\n                <a href=\"javascript:void(0)\" id=\"show-sort\"><i class=\"icon-sort\"></i></a>\\n                <input id=\"filter\" type=\"text\" placeholder=\"Search...\">\\n                <a href=\"javascript:void(0)\" id=\"clear-search\"><i class=\"icon-remove\"></i></a>\\n                <ul id=\"sort-options\" data-sorted=\"name\" data-dir=\"asc\">\\n                    <li class=\"title\">Sort by</li>\\n                    <li class=\"sort-option\" data-type=\"booth\">Booth <i class=\"icon-arrow-up\"></i></li>\\n                    <li class=\"sort-option\" data-type=\"name\">Name <i class=\"icon-arrow-up\"></i></li>\\n                    <li class=\"sort-option\" data-type=\"style\">Style <i></i></li>\\n                    <li class=\"sort-option\" data-type=\"brewery\">Brewery <i></i></li>\\n                    <li class=\"sort-option\" data-type=\"state\">State <i></i></li>\\n                    <li class=\"sort-option\" data-type=\"abv\">% ABV <i></i></li>\\n                    <li class=\"sort-option\" data-type=\"ibu\">IBU <i></i></li>\\n                    <li class=\"sort-option\" data-type=\"specialty\">SPECIALTY <i></i></li>\\n                </ul>\\n            </section>\\n        </header>\\n\\t\\t\\n\\t\\t<section class=\"tickets\">\\n\\t\\t\\t<a class=\"button\" href=\"https://localculturetickets.com/events/66708217/san-antonio-beer-festival-2019-saturday-oct-19-2019-vip-noon-access-ga-1-30pm-access?ref=SABFwebsite\" target=\"_blank\">Buy Tickets Now</a>\\n\\t\\t</section>\\n\\n        <section class=\"beer-list\">\\n            <ul id=\"beer-list\" class=\"beer-list\"></ul>\\n        </section>\\n\\n        <div id=\"top\"><i class=\"icon-arrow-up\"></i></div>\\n\\n        <div id=\"beer-info\"><img src=\"css/img/booth_map.png\"></div>\\n\\n        <script src=\"//ajax.googleapis.com/ajax/libs/jquery/1.10.2/jquery.min.js\"></script>\\n        <script>window.jQuery || document.write(\\'<script src=\"js/vendor/jquery-1.10.2.min.js\"><\\\\/script>\\')</script>\\n        <script src=\"js/jquery.sidr.min.js\"></script>\\n        <script src=\"js/jquery.touchwipe.min.js\"></script>\\n        <script src=\"js/jquery.tinysort.min.js\"></script>\\n        <script src=\"js/main.js\"></script>\\n        \\n    </body>\\n</html>\\n'"
      ]
     },
     "execution_count": 53,
     "metadata": {},
     "output_type": "execute_result"
    }
   ],
   "source": [
    "res.text"
   ]
  },
  {
   "cell_type": "code",
   "execution_count": 54,
   "metadata": {
    "scrolled": true
   },
   "outputs": [],
   "source": [
    "soup = bs4.BeautifulSoup(res.text, 'lxml')"
   ]
  },
  {
   "cell_type": "code",
   "execution_count": 55,
   "metadata": {},
   "outputs": [
    {
     "data": {
      "text/plain": [
       "bs4.BeautifulSoup"
      ]
     },
     "execution_count": 55,
     "metadata": {},
     "output_type": "execute_result"
    }
   ],
   "source": [
    "type(soup)"
   ]
  },
  {
   "cell_type": "code",
   "execution_count": 70,
   "metadata": {},
   "outputs": [],
   "source": [
    "beer_name=soup.find_all('//*[@id=\"beer-list\"]/li[1]/div[2]/h2')"
   ]
  },
  {
   "cell_type": "code",
   "execution_count": 71,
   "metadata": {},
   "outputs": [
    {
     "data": {
      "text/plain": [
       "[]"
      ]
     },
     "execution_count": 71,
     "metadata": {},
     "output_type": "execute_result"
    }
   ],
   "source": [
    "beer_name"
   ]
  },
  {
   "cell_type": "code",
   "execution_count": 73,
   "metadata": {},
   "outputs": [
    {
     "data": {
      "text/plain": [
       "0"
      ]
     },
     "execution_count": 73,
     "metadata": {},
     "output_type": "execute_result"
    }
   ],
   "source": [
    "len(beer_name)"
   ]
  },
  {
   "cell_type": "code",
   "execution_count": null,
   "metadata": {},
   "outputs": [],
   "source": []
  }
 ],
 "metadata": {
  "kernelspec": {
   "display_name": "Python 3",
   "language": "python",
   "name": "python3"
  },
  "language_info": {
   "codemirror_mode": {
    "name": "ipython",
    "version": 3
   },
   "file_extension": ".py",
   "mimetype": "text/x-python",
   "name": "python",
   "nbconvert_exporter": "python",
   "pygments_lexer": "ipython3",
   "version": "3.7.3"
  }
 },
 "nbformat": 4,
 "nbformat_minor": 2
}
