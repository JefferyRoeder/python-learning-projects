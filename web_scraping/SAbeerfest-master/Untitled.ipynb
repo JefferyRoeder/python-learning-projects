{
 "cells": [
  {
   "cell_type": "code",
   "execution_count": 2,
   "metadata": {},
   "outputs": [
    {
     "name": "stdout",
     "output_type": "stream",
     "text": [
      "Requirement already satisfied: BeautifulSoup4 in /usr/local/anaconda3/lib/python3.7/site-packages (4.7.1)\n",
      "Requirement already satisfied: soupsieve>=1.2 in /usr/local/anaconda3/lib/python3.7/site-packages (from BeautifulSoup4) (1.8)\n",
      "Note: you may need to restart the kernel to use updated packages.\n"
     ]
    }
   ],
   "source": [
    "\n",
    "pip install BeautifulSoup4"
   ]
  },
  {
   "cell_type": "code",
   "execution_count": 8,
   "metadata": {},
   "outputs": [],
   "source": [
    "import bs4 as bs\n",
    "import urllib.request\n",
    "import csv\n",
    "import pandas as pd\n",
    "import urllib\n",
    "import ssl\n",
    "ssl._create_default_https_context = ssl._create_unverified_context"
   ]
  },
  {
   "cell_type": "code",
   "execution_count": 14,
   "metadata": {},
   "outputs": [],
   "source": [
    "source = urllib.request.urlopen('https://sanantoniobeerfestival.com/mobile/').read()"
   ]
  },
  {
   "cell_type": "code",
   "execution_count": 15,
   "metadata": {},
   "outputs": [],
   "source": [
    "soup = bs.BeautifulSoup(source,'lxml')"
   ]
  },
  {
   "cell_type": "code",
   "execution_count": 26,
   "metadata": {},
   "outputs": [
    {
     "ename": "SyntaxError",
     "evalue": "invalid character in identifier (<ipython-input-26-4df51b72ec61>, line 1)",
     "output_type": "error",
     "traceback": [
      "\u001b[0;36m  File \u001b[0;32m\"<ipython-input-26-4df51b72ec61>\"\u001b[0;36m, line \u001b[0;32m1\u001b[0m\n\u001b[0;31m    beer_name = soup.find('h2', attrs={‘class’: ‘beer_name’})\u001b[0m\n\u001b[0m                                             ^\u001b[0m\n\u001b[0;31mSyntaxError\u001b[0m\u001b[0;31m:\u001b[0m invalid character in identifier\n"
     ]
    }
   ],
   "source": [
    "beer_name = soup.find('h2', attrs={‘class’: ‘beer_name’})"
   ]
  },
  {
   "cell_type": "code",
   "execution_count": 22,
   "metadata": {},
   "outputs": [
    {
     "data": {
      "text/plain": [
       "b'<!DOCTYPE html>\\n<html>\\n    <head>\\n        <meta charset=\"utf-8\">\\n        <meta http-equiv=\"X-UA-Compatible\" content=\"IE=edge\">\\n        <title>San Antonio Beer Festival Web App</title>\\n        <meta name=\"description\" content=\"A complete list of beers available at the 2019 San Antonio Beer Festival.\">\\n        <meta name=\"viewport\" content=\"width=device-width, initial-scale=1\">\\n\\t\\t<link rel=\"icon\" href=\"/wp/wp-content/themes/euclid-events-master/images/favicon.ico\" />\\n        <link href=\\'https://fonts.googleapis.com/css?family=Lato:400,700,700italic,400italic\\' rel=\\'stylesheet\\' type=\\'text/css\\'>\\n        <link rel=\"stylesheet\" href=\"css/normalize.css\">\\n        <link rel=\"stylesheet\" href=\"css/main.css\">\\n        <link rel=\"stylesheet\" href=\"css/font-awesome.css\">\\n        <meta property=\"og:title\" content=\"San Antonio Beer Festival Web App\" />\\n        <meta property=\"og:type\" content=\"website\" />\\n        <meta property=\"og:url\" content=\"https://sanantoniobeerfestival.com/mobile/\" />\\n        <meta property=\"og:image\" content=\"https://sanantoniobeerfestival.com/mobile/img/beerfest-2018-fb.jpg\" />\\n        <meta property=\"og:description\" content=\"A complete list of beers available at the 2019 San Antonio Beer Festival. Sort by brewery, beer style, alcohol by volume, and brewery location.\" />\\n\\t\\t<script type=\"text/javascript\">\\n          var _gaq = _gaq || [];\\n          _gaq.push([\\'_setAccount\\', \\'UA-5255170-1\\']);\\n          _gaq.push([\\'_setDomainName\\', \\'auto\\']);\\n          _gaq.push([\\'_trackPageview\\']);\\n          (function() {\\n            var ga = document.createElement(\\'script\\'); ga.type = \\'text/javascript\\'; ga.async = true;\\n            ga.src = (\\'https:\\' == document.location.protocol ? \\'https://\\' : \\'http://\\') + \\'stats.g.doubleclick.net/dc.js\\';\\n            var s = document.getElementsByTagName(\\'script\\')[0]; s.parentNode.insertBefore(ga, s);\\n          })();\\n        </script>\\n    </head>\\n    <body>\\n\\n        <header>\\n            <a href=\"/\"><img src=\"/wp/wp-content/uploads/2019/08/SAM_BFLogo-19.png\" width=\"200\" alt=\"2018 San Antonio Beer Festival\"></a>\\n            <h1>Beer Finder</h1>\\n            <section class=\"filter-cnt\">\\n                <a href=\"javascript:void(0)\" id=\"show-sort\"><i class=\"icon-sort\"></i></a>\\n                <input id=\"filter\" type=\"text\" placeholder=\"Search...\">\\n                <a href=\"javascript:void(0)\" id=\"clear-search\"><i class=\"icon-remove\"></i></a>\\n                <ul id=\"sort-options\" data-sorted=\"name\" data-dir=\"asc\">\\n                    <li class=\"title\">Sort by</li>\\n                    <li class=\"sort-option\" data-type=\"booth\">Booth <i class=\"icon-arrow-up\"></i></li>\\n                    <li class=\"sort-option\" data-type=\"name\">Name <i class=\"icon-arrow-up\"></i></li>\\n                    <li class=\"sort-option\" data-type=\"style\">Style <i></i></li>\\n                    <li class=\"sort-option\" data-type=\"brewery\">Brewery <i></i></li>\\n                    <li class=\"sort-option\" data-type=\"state\">State <i></i></li>\\n                    <li class=\"sort-option\" data-type=\"abv\">% ABV <i></i></li>\\n                    <li class=\"sort-option\" data-type=\"ibu\">IBU <i></i></li>\\n                    <li class=\"sort-option\" data-type=\"specialty\">SPECIALTY <i></i></li>\\n                </ul>\\n            </section>\\n        </header>\\n\\t\\t\\n\\t\\t<section class=\"tickets\">\\n\\t\\t\\t<a class=\"button\" href=\"https://localculturetickets.com/events/66708217/san-antonio-beer-festival-2019-saturday-oct-19-2019-vip-noon-access-ga-1-30pm-access?ref=SABFwebsite\" target=\"_blank\">Buy Tickets Now</a>\\n\\t\\t</section>\\n\\n        <section class=\"beer-list\">\\n            <ul id=\"beer-list\" class=\"beer-list\"></ul>\\n        </section>\\n\\n        <div id=\"top\"><i class=\"icon-arrow-up\"></i></div>\\n\\n        <div id=\"beer-info\"><img src=\"css/img/booth_map.png\"></div>\\n\\n        <script src=\"//ajax.googleapis.com/ajax/libs/jquery/1.10.2/jquery.min.js\"></script>\\n        <script>window.jQuery || document.write(\\'<script src=\"js/vendor/jquery-1.10.2.min.js\"><\\\\/script>\\')</script>\\n        <script src=\"js/jquery.sidr.min.js\"></script>\\n        <script src=\"js/jquery.touchwipe.min.js\"></script>\\n        <script src=\"js/jquery.tinysort.min.js\"></script>\\n        <script src=\"js/main.js\"></script>\\n        \\n    </body>\\n</html>\\n'"
      ]
     },
     "execution_count": 22,
     "metadata": {},
     "output_type": "execute_result"
    }
   ],
   "source": [
    "source"
   ]
  },
  {
   "cell_type": "code",
   "execution_count": 18,
   "metadata": {},
   "outputs": [],
   "source": []
  },
  {
   "cell_type": "code",
   "execution_count": null,
   "metadata": {},
   "outputs": [],
   "source": []
  }
 ],
 "metadata": {
  "kernelspec": {
   "display_name": "Python 3",
   "language": "python",
   "name": "python3"
  },
  "language_info": {
   "codemirror_mode": {
    "name": "ipython",
    "version": 3
   },
   "file_extension": ".py",
   "mimetype": "text/x-python",
   "name": "python",
   "nbconvert_exporter": "python",
   "pygments_lexer": "ipython3",
   "version": "3.7.3"
  }
 },
 "nbformat": 4,
 "nbformat_minor": 2
}
