{
 "cells": [
  {
   "cell_type": "code",
   "execution_count": 68,
   "metadata": {},
   "outputs": [],
   "source": [
    "import requests\n",
    "import urllib.request\n",
    "import time\n",
    "import bs4 as bs \n",
    "import csv"
   ]
  },
  {
   "cell_type": "code",
   "execution_count": 75,
   "metadata": {},
   "outputs": [],
   "source": [
    "from lxml import html\n",
    "import requests"
   ]
  },
  {
   "cell_type": "code",
   "execution_count": 76,
   "metadata": {},
   "outputs": [],
   "source": [
    "source = requests.get('https://sanantoniobeerfestival.com/mobile/')\n",
    "##source = urllib.request.urlopen('https://sanantoniobeerfestival.com/mobile/').read()"
   ]
  },
  {
   "cell_type": "code",
   "execution_count": 81,
   "metadata": {},
   "outputs": [],
   "source": [
    "\n",
    "tree = html.fromstring(source.content)"
   ]
  },
  {
   "cell_type": "code",
   "execution_count": 82,
   "metadata": {},
   "outputs": [],
   "source": [
    "\n",
    "beer_name =soup.find_all('/html/body/section[2]/ul/li[1]/div[2]/h2')"
   ]
  },
  {
   "cell_type": "markdown",
   "metadata": {},
   "source": [
    "//*[@id=\"beer-list\"]/li[1]/div[2]/h2\n",
    "\n",
    "//*[@id=\"beer-list\"]/li[1]/div[2]/p[1]/strong\n",
    "\n",
    "//*[@id=\"beer-list\"]/li[2]/div[2]/p[1]/text()"
   ]
  },
  {
   "cell_type": "code",
   "execution_count": 83,
   "metadata": {},
   "outputs": [],
   "source": [
    "#Create list of beers at event: beer name\n",
    "beer_name = tree.xpath('/html/body/section[2]/ul/li[1]/div[2]/h2')\n",
    "\n",
    "#Create list of brreweries at event: Brewery\n",
    "brewery = tree.xpath('/html/body/section[2]/ul/li[2]/div[2]/p[1]/br')\n",
    "\n",
    "#Type of beer\n",
    "type_of_beer = tree.xpath('/html/body/section[2]/ul/li[1]/div[2]/p[1]/strong')"
   ]
  },
  {
   "cell_type": "code",
   "execution_count": 84,
   "metadata": {},
   "outputs": [
    {
     "name": "stdout",
     "output_type": "stream",
     "text": [
      "Beer:  []\n",
      "Brewery []\n",
      "Type:  []\n"
     ]
    }
   ],
   "source": [
    "print('Beer: ',beer_name)\n",
    "print('Brewery', brewery)\n",
    "print('Type: ', type_of_beer)"
   ]
  },
  {
   "cell_type": "code",
   "execution_count": 69,
   "metadata": {},
   "outputs": [],
   "source": []
  },
  {
   "cell_type": "code",
   "execution_count": 70,
   "metadata": {},
   "outputs": [
    {
     "data": {
      "text/plain": [
       "<_csv.writer at 0x1111c8b48>"
      ]
     },
     "execution_count": 70,
     "metadata": {},
     "output_type": "execute_result"
    }
   ],
   "source": []
  },
  {
   "cell_type": "code",
   "execution_count": null,
   "metadata": {},
   "outputs": [],
   "source": []
  }
 ],
 "metadata": {
  "kernelspec": {
   "display_name": "Python 3",
   "language": "python",
   "name": "python3"
  },
  "language_info": {
   "codemirror_mode": {
    "name": "ipython",
    "version": 3
   },
   "file_extension": ".py",
   "mimetype": "text/x-python",
   "name": "python",
   "nbconvert_exporter": "python",
   "pygments_lexer": "ipython3",
   "version": "3.7.3"
  }
 },
 "nbformat": 4,
 "nbformat_minor": 2
}
