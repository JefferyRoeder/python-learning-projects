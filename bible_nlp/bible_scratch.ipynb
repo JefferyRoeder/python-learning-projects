{
 "cells": [
  {
   "cell_type": "code",
   "execution_count": 13,
   "metadata": {},
   "outputs": [],
   "source": [
    "import pandas as pd\n",
    "import numpy as np\n",
    "\n",
    "import unicodedata\n",
    "import re\n",
    "import nltk\n",
    "from nltk.tokenize.toktok import ToktokTokenizer\n",
    "from nltk.corpus import stopwords\n",
    "from nltk.sentiment.vader import SentimentIntensityAnalyzer"
   ]
  },
  {
   "cell_type": "code",
   "execution_count": 2,
   "metadata": {},
   "outputs": [],
   "source": [
    "def bible_wrangle():\n",
    "    df = pd.read_csv('t_asv.csv')\n",
    "    df_genre = pd.read_csv('key_genre_english.csv')\n",
    "    df_book_names = pd.read_csv('key_english.csv')\n",
    "    df = pd.merge(df,df_book_names,left_on = 'b',right_on = 'field',how = 'left')\n",
    "    df.drop(columns='field',inplace=True)\n",
    "    df = pd.merge(df,df_genre,left_on = 'field.3',right_on='field',how='left')\n",
    "    df.drop(columns='field',inplace=True)\n",
    "    df.columns = ['id','book_no','ch','ver','text','book','test','genre_no','genre']\n",
    "    return df"
   ]
  },
  {
   "cell_type": "code",
   "execution_count": 3,
   "metadata": {},
   "outputs": [],
   "source": [
    "df = bible_wrangle()"
   ]
  },
  {
   "cell_type": "code",
   "execution_count": 8,
   "metadata": {},
   "outputs": [],
   "source": [
    "def basic_clean(string):\n",
    "    \"\"\"\n",
    "    Lowercase the string\n",
    "    Normalize unicode characters\n",
    "    Replace anything that is not a letter, number, whitespace or a single quote.\n",
    "    \"\"\"\n",
    "    string = string.lower()\n",
    "    string = string.replace('c++','cplusplus')\n",
    "    string = unicodedata.normalize('NFKD', string).encode('ascii', 'ignore').decode('utf-8', 'ignore')\n",
    "    \n",
    "    # remove anything not a space character, an apostrophy, letter, or number\n",
    "    string = re.sub(r\"[^a-z0-9'\\s]\", '', string)\n",
    "\n",
    "    # convert newlines and tabs to a single space\n",
    "    string = re.sub(r'[\\r|\\n|\\r\\n]+', ' ', string)\n",
    "    \n",
    "    string = string.strip()\n",
    "    return string"
   ]
  },
  {
   "cell_type": "code",
   "execution_count": null,
   "metadata": {},
   "outputs": [],
   "source": []
  },
  {
   "cell_type": "code",
   "execution_count": 9,
   "metadata": {},
   "outputs": [
    {
     "data": {
      "text/html": [
       "<div>\n",
       "<style scoped>\n",
       "    .dataframe tbody tr th:only-of-type {\n",
       "        vertical-align: middle;\n",
       "    }\n",
       "\n",
       "    .dataframe tbody tr th {\n",
       "        vertical-align: top;\n",
       "    }\n",
       "\n",
       "    .dataframe thead th {\n",
       "        text-align: right;\n",
       "    }\n",
       "</style>\n",
       "<table border=\"1\" class=\"dataframe\">\n",
       "  <thead>\n",
       "    <tr style=\"text-align: right;\">\n",
       "      <th></th>\n",
       "      <th>id</th>\n",
       "      <th>book_no</th>\n",
       "      <th>ch</th>\n",
       "      <th>ver</th>\n",
       "      <th>text</th>\n",
       "      <th>book</th>\n",
       "      <th>test</th>\n",
       "      <th>genre_no</th>\n",
       "      <th>genre</th>\n",
       "    </tr>\n",
       "  </thead>\n",
       "  <tbody>\n",
       "    <tr>\n",
       "      <th>0</th>\n",
       "      <td>1001001</td>\n",
       "      <td>1</td>\n",
       "      <td>1</td>\n",
       "      <td>1</td>\n",
       "      <td>In the beginning God created the heavens and t...</td>\n",
       "      <td>Genesis</td>\n",
       "      <td>OT</td>\n",
       "      <td>1</td>\n",
       "      <td>Law</td>\n",
       "    </tr>\n",
       "    <tr>\n",
       "      <th>1</th>\n",
       "      <td>1001002</td>\n",
       "      <td>1</td>\n",
       "      <td>1</td>\n",
       "      <td>2</td>\n",
       "      <td>And the earth was waste and void; and darkness...</td>\n",
       "      <td>Genesis</td>\n",
       "      <td>OT</td>\n",
       "      <td>1</td>\n",
       "      <td>Law</td>\n",
       "    </tr>\n",
       "  </tbody>\n",
       "</table>\n",
       "</div>"
      ],
      "text/plain": [
       "        id  book_no  ch  ver  \\\n",
       "0  1001001        1   1    1   \n",
       "1  1001002        1   1    2   \n",
       "\n",
       "                                                text     book test  genre_no  \\\n",
       "0  In the beginning God created the heavens and t...  Genesis   OT         1   \n",
       "1  And the earth was waste and void; and darkness...  Genesis   OT         1   \n",
       "\n",
       "  genre  \n",
       "0   Law  \n",
       "1   Law  "
      ]
     },
     "execution_count": 9,
     "metadata": {},
     "output_type": "execute_result"
    }
   ],
   "source": [
    "df.head(2)"
   ]
  },
  {
   "cell_type": "code",
   "execution_count": 11,
   "metadata": {},
   "outputs": [],
   "source": [
    "df.text = df.text.apply(basic_clean)"
   ]
  },
  {
   "cell_type": "code",
   "execution_count": 12,
   "metadata": {},
   "outputs": [
    {
     "data": {
      "text/html": [
       "<div>\n",
       "<style scoped>\n",
       "    .dataframe tbody tr th:only-of-type {\n",
       "        vertical-align: middle;\n",
       "    }\n",
       "\n",
       "    .dataframe tbody tr th {\n",
       "        vertical-align: top;\n",
       "    }\n",
       "\n",
       "    .dataframe thead th {\n",
       "        text-align: right;\n",
       "    }\n",
       "</style>\n",
       "<table border=\"1\" class=\"dataframe\">\n",
       "  <thead>\n",
       "    <tr style=\"text-align: right;\">\n",
       "      <th></th>\n",
       "      <th>id</th>\n",
       "      <th>book_no</th>\n",
       "      <th>ch</th>\n",
       "      <th>ver</th>\n",
       "      <th>text</th>\n",
       "      <th>book</th>\n",
       "      <th>test</th>\n",
       "      <th>genre_no</th>\n",
       "      <th>genre</th>\n",
       "    </tr>\n",
       "  </thead>\n",
       "  <tbody>\n",
       "    <tr>\n",
       "      <th>0</th>\n",
       "      <td>1001001</td>\n",
       "      <td>1</td>\n",
       "      <td>1</td>\n",
       "      <td>1</td>\n",
       "      <td>in the beginning god created the heavens and t...</td>\n",
       "      <td>Genesis</td>\n",
       "      <td>OT</td>\n",
       "      <td>1</td>\n",
       "      <td>Law</td>\n",
       "    </tr>\n",
       "    <tr>\n",
       "      <th>1</th>\n",
       "      <td>1001002</td>\n",
       "      <td>1</td>\n",
       "      <td>1</td>\n",
       "      <td>2</td>\n",
       "      <td>and the earth was waste and void and darkness ...</td>\n",
       "      <td>Genesis</td>\n",
       "      <td>OT</td>\n",
       "      <td>1</td>\n",
       "      <td>Law</td>\n",
       "    </tr>\n",
       "  </tbody>\n",
       "</table>\n",
       "</div>"
      ],
      "text/plain": [
       "        id  book_no  ch  ver  \\\n",
       "0  1001001        1   1    1   \n",
       "1  1001002        1   1    2   \n",
       "\n",
       "                                                text     book test  genre_no  \\\n",
       "0  in the beginning god created the heavens and t...  Genesis   OT         1   \n",
       "1  and the earth was waste and void and darkness ...  Genesis   OT         1   \n",
       "\n",
       "  genre  \n",
       "0   Law  \n",
       "1   Law  "
      ]
     },
     "execution_count": 12,
     "metadata": {},
     "output_type": "execute_result"
    }
   ],
   "source": [
    "df.head(2)"
   ]
  },
  {
   "cell_type": "code",
   "execution_count": 15,
   "metadata": {},
   "outputs": [],
   "source": [
    "sia = SentimentIntensityAnalyzer()"
   ]
  },
  {
   "cell_type": "code",
   "execution_count": 20,
   "metadata": {},
   "outputs": [],
   "source": [
    "blob = \"For God so loved the world that he gave his only son to die for us\""
   ]
  },
  {
   "cell_type": "code",
   "execution_count": 21,
   "metadata": {},
   "outputs": [
    {
     "data": {
      "text/plain": [
       "{'neg': 0.163, 'neu': 0.542, 'pos': 0.296, 'compound': 0.4924}"
      ]
     },
     "execution_count": 21,
     "metadata": {},
     "output_type": "execute_result"
    }
   ],
   "source": [
    "sia.polarity_scores(blob)"
   ]
  },
  {
   "cell_type": "code",
   "execution_count": 23,
   "metadata": {},
   "outputs": [],
   "source": [
    "df['vader_sentiment'] = df.text.apply(lambda txt: sia.polarity_scores(txt)['compound'])"
   ]
  },
  {
   "cell_type": "code",
   "execution_count": 32,
   "metadata": {},
   "outputs": [
    {
     "data": {
      "text/html": [
       "<div>\n",
       "<style scoped>\n",
       "    .dataframe tbody tr th:only-of-type {\n",
       "        vertical-align: middle;\n",
       "    }\n",
       "\n",
       "    .dataframe tbody tr th {\n",
       "        vertical-align: top;\n",
       "    }\n",
       "\n",
       "    .dataframe thead th {\n",
       "        text-align: right;\n",
       "    }\n",
       "</style>\n",
       "<table border=\"1\" class=\"dataframe\">\n",
       "  <thead>\n",
       "    <tr style=\"text-align: right;\">\n",
       "      <th></th>\n",
       "      <th>id</th>\n",
       "      <th>book_no</th>\n",
       "      <th>ch</th>\n",
       "      <th>ver</th>\n",
       "      <th>genre_no</th>\n",
       "      <th>vader_sentiment</th>\n",
       "    </tr>\n",
       "    <tr>\n",
       "      <th>genre</th>\n",
       "      <th></th>\n",
       "      <th></th>\n",
       "      <th></th>\n",
       "      <th></th>\n",
       "      <th></th>\n",
       "      <th></th>\n",
       "    </tr>\n",
       "  </thead>\n",
       "  <tbody>\n",
       "    <tr>\n",
       "      <th>Epistles</th>\n",
       "      <td>5.135178e+07</td>\n",
       "      <td>51.346098</td>\n",
       "      <td>5.669075</td>\n",
       "      <td>13.190751</td>\n",
       "      <td>7.0</td>\n",
       "      <td>0.203782</td>\n",
       "    </tr>\n",
       "    <tr>\n",
       "      <th>Apocalyptic</th>\n",
       "      <td>6.601172e+07</td>\n",
       "      <td>66.000000</td>\n",
       "      <td>11.710396</td>\n",
       "      <td>10.358911</td>\n",
       "      <td>8.0</td>\n",
       "      <td>0.202125</td>\n",
       "    </tr>\n",
       "    <tr>\n",
       "      <th>Acts</th>\n",
       "      <td>4.401426e+07</td>\n",
       "      <td>44.000000</td>\n",
       "      <td>14.243297</td>\n",
       "      <td>19.732870</td>\n",
       "      <td>6.0</td>\n",
       "      <td>0.086857</td>\n",
       "    </tr>\n",
       "    <tr>\n",
       "      <th>Wisdom</th>\n",
       "      <td>1.918203e+07</td>\n",
       "      <td>19.133751</td>\n",
       "      <td>48.259143</td>\n",
       "      <td>15.790178</td>\n",
       "      <td>3.0</td>\n",
       "      <td>0.072520</td>\n",
       "    </tr>\n",
       "    <tr>\n",
       "      <th>Gospels</th>\n",
       "      <td>4.149854e+07</td>\n",
       "      <td>41.486372</td>\n",
       "      <td>12.148981</td>\n",
       "      <td>23.724001</td>\n",
       "      <td>5.0</td>\n",
       "      <td>0.049409</td>\n",
       "    </tr>\n",
       "    <tr>\n",
       "      <th>History</th>\n",
       "      <td>1.113957e+07</td>\n",
       "      <td>11.126674</td>\n",
       "      <td>12.877885</td>\n",
       "      <td>17.224850</td>\n",
       "      <td>2.0</td>\n",
       "      <td>0.046005</td>\n",
       "    </tr>\n",
       "    <tr>\n",
       "      <th>Law</th>\n",
       "      <td>2.837072e+06</td>\n",
       "      <td>2.816644</td>\n",
       "      <td>20.409433</td>\n",
       "      <td>18.417806</td>\n",
       "      <td>1.0</td>\n",
       "      <td>0.028739</td>\n",
       "    </tr>\n",
       "    <tr>\n",
       "      <th>Prophets</th>\n",
       "      <td>2.620389e+07</td>\n",
       "      <td>26.181967</td>\n",
       "      <td>21.906011</td>\n",
       "      <td>13.780692</td>\n",
       "      <td>4.0</td>\n",
       "      <td>-0.010489</td>\n",
       "    </tr>\n",
       "  </tbody>\n",
       "</table>\n",
       "</div>"
      ],
      "text/plain": [
       "                       id    book_no         ch        ver  genre_no  \\\n",
       "genre                                                                  \n",
       "Epistles     5.135178e+07  51.346098   5.669075  13.190751       7.0   \n",
       "Apocalyptic  6.601172e+07  66.000000  11.710396  10.358911       8.0   \n",
       "Acts         4.401426e+07  44.000000  14.243297  19.732870       6.0   \n",
       "Wisdom       1.918203e+07  19.133751  48.259143  15.790178       3.0   \n",
       "Gospels      4.149854e+07  41.486372  12.148981  23.724001       5.0   \n",
       "History      1.113957e+07  11.126674  12.877885  17.224850       2.0   \n",
       "Law          2.837072e+06   2.816644  20.409433  18.417806       1.0   \n",
       "Prophets     2.620389e+07  26.181967  21.906011  13.780692       4.0   \n",
       "\n",
       "             vader_sentiment  \n",
       "genre                         \n",
       "Epistles            0.203782  \n",
       "Apocalyptic         0.202125  \n",
       "Acts                0.086857  \n",
       "Wisdom              0.072520  \n",
       "Gospels             0.049409  \n",
       "History             0.046005  \n",
       "Law                 0.028739  \n",
       "Prophets           -0.010489  "
      ]
     },
     "execution_count": 32,
     "metadata": {},
     "output_type": "execute_result"
    }
   ],
   "source": [
    "df.groupby('genre').mean().sort_values(by='vader_sentiment',ascending=False)"
   ]
  },
  {
   "cell_type": "code",
   "execution_count": null,
   "metadata": {},
   "outputs": [],
   "source": []
  },
  {
   "cell_type": "code",
   "execution_count": null,
   "metadata": {},
   "outputs": [],
   "source": []
  },
  {
   "cell_type": "code",
   "execution_count": null,
   "metadata": {},
   "outputs": [],
   "source": []
  }
 ],
 "metadata": {
  "kernelspec": {
   "display_name": "Python 3",
   "language": "python",
   "name": "python3"
  },
  "language_info": {
   "codemirror_mode": {
    "name": "ipython",
    "version": 3
   },
   "file_extension": ".py",
   "mimetype": "text/x-python",
   "name": "python",
   "nbconvert_exporter": "python",
   "pygments_lexer": "ipython3",
   "version": "3.7.3"
  }
 },
 "nbformat": 4,
 "nbformat_minor": 2
}
